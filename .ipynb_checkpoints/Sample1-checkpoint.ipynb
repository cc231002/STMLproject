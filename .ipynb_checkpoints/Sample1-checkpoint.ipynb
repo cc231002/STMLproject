{
 "cells": [
  {
   "cell_type": "code",
   "execution_count": null,
   "id": "a9a59d17-8f6d-4e54-aa6d-629bd8633af2",
   "metadata": {},
   "outputs": [],
   "source": [
    "#imports\n",
    "import sklearn\n",
    "import matplotlib.pyplot as plt\n",
    "import numpy as np\n",
    "from sklearn.preprocessing import LabelEncoder\n",
    "from sklearn.feature_extraction.text import TfidfVectorizer\n",
    "import pandas as pd\n",
    "import re\n",
    "import pyarrow.parquet as pa\n",
    "import contractions\n",
    "from wordcloud import WordCloud\n",
    "import nltk\n",
    "from nltk.tokenize import word_tokenize\n",
    "\n",
    "# Download the tokenizer (one-time setup)\n",
    "nltk.download('punkt_tab')\n",
    "\n",
    "\n"
   ]
  },
  {
   "cell_type": "code",
   "execution_count": null,
   "id": "79d59b3f-c002-4a1e-a0a0-411fa0f6bb1e",
   "metadata": {
    "scrolled": true
   },
   "outputs": [],
   "source": [
    "#Reading the dataset and displaying it\n",
    "data = pd.read_parquet('train-00000-of-00001-a0f92f8fbc6b2308.parquet')\n",
    "print(data.columns)\n",
    "print(data.info())\n",
    "\n"
   ]
  },
  {
   "cell_type": "code",
   "execution_count": null,
   "id": "45c9ae81-4ea2-452f-97c8-8087da7d4657",
   "metadata": {},
   "outputs": [],
   "source": [
    "#Changing the data from parquet to csv \n",
    "data.to_csv('dataset.csv', index=False)\n",
    "data = pd.read_csv('dataset.csv')"
   ]
  },
  {
   "cell_type": "code",
   "execution_count": null,
   "id": "e0d39e71-bdc2-41ee-8866-54cd7eea5b59",
   "metadata": {
    "jupyter": {
     "source_hidden": true
    }
   },
   "outputs": [],
   "source": [
    "\"\"\"\n",
    "# Step 2: Define a cleaning function\n",
    "def clean_text(text):\n",
    "    if not isinstance(text, str):  # Handle missing or non-string values\n",
    "        return \"\"\n",
    "    text = re.sub(r'<[^>]+>', '', text)  # Remove HTML tags\n",
    "    text = re.sub(r'[0-9]', '', text)  # Remove all numeric digits\n",
    "    text = re.sub(r'[^\\w\\s\\']', '', text)  # Remove unwanted characters (keep words, spaces, and apostrophes)\n",
    "    text = re.sub(r'\\s+', ' ', text)  # Replace multiple spaces with a single space\n",
    "    return text.strip()  # Remove leading and trailing whitespace\n",
    "\n",
    "# Step 3: Apply cleaning to all relevant text columns\n",
    "text_columns = ['text']  # Update this with the list of text columns to clean\n",
    "for column in text_columns:\n",
    "    data[f'{column}_cleaned'] = data[column].apply(clean_text)\n",
    "\n",
    "# Step 4: Handle missing values (optional)\n",
    "for column in text_columns:\n",
    "    data.dropna(subset=[f'{column}_cleaned'], inplace=True)  # Drop rows where the cleaned text is missing\n",
    "\n",
    "# Step 5: Save the cleaned data back to CSV\n",
    "data.to_csv('cleaned_dataset.csv', index=False)\n",
    "print(\"Cleaned dataset saved as 'cleaned_dataset.csv'\")\n",
    "\n",
    "# Step 6: Preview the cleaned data\n",
    "print(data.head())\n",
    "\"\"\"\n",
    "\n",
    "def clean_text(text):\n",
    "    if isinstance(text, str):\n",
    "     \n",
    "\n",
    "        # Remove special characters and digits, but preserve all alphabetic characters\n",
    "        \n",
    "        text = re.sub(r'[^a-zA-ZáéíóúüñÁÉÍÓÚÜÑа-яА-ЯёЁ\\u4e00-\\u9fff\\uac00-\\ud7af\\u3040-\\u30ff\\u3130-\\u318f\\s]', '', text)\n",
    "        \n",
    "        # Remove extra whitespace\n",
    "        text = text.strip()\n",
    "        # Expand contractions\n",
    "        text = contractions.fix(text)\n",
    "        \n",
    "        return text\n",
    "    else:\n",
    "        return \"\"\n",
    "\n",
    "# Step 2: Apply the cleaning function to the 'text' column\n",
    "data['cleaned_text'] = data['text'].apply(clean_text)\n",
    "\n",
    "# Step 3: Remove NaN rows\n",
    "data.dropna(subset=['cleaned_text'], inplace=True)\n",
    "\n",
    "# Step 4: Tokenization (split the cleaned text into words)\n",
    "def tokenize_text(text):\n",
    "    return word_tokenize(text.lower())  # Tokenize and make lowercase for standardization\n",
    "\n",
    "data['tokens'] = data['cleaned_text'].apply(tokenize_text)\n",
    "\n"
   ]
  },
  {
   "cell_type": "code",
   "execution_count": null,
   "id": "909a6aba-e3d5-4c04-ba6a-4c4804d95f94",
   "metadata": {},
   "outputs": [],
   "source": [
    "# Step 5: Encode the 'language' column using LabelEncoder\n",
    "label_encoder = LabelEncoder()\n",
    "data['language_encoded'] = label_encoder.fit_transform(data['language_code'])\n",
    "\n",
    "# Step 6: Print the mapping of original labels to numeric labels\n",
    "print(\"Mapping:\", dict(zip(label_encoder.classes_, label_encoder.transform(label_encoder.classes_))))\n",
    "\n",
    "# Step 7: Print the DataFrame with language and encoded labels\n",
    "print(data[['language_code', 'language_encoded']])\n",
    "\n",
    "# Step 8: Optional - Inverse transformation: converting encoded values back to original labels\n",
    "inverse_labels = label_encoder.inverse_transform(data['language_encoded'])\n",
    "print(\"Inverse transformation result:\", inverse_labels)"
   ]
  },
  {
   "cell_type": "code",
   "execution_count": null,
   "id": "e93326e2-1187-4682-a260-fc6e6aaab9c2",
   "metadata": {},
   "outputs": [],
   "source": [
    "data.to_csv('cleaned_dataset.csv', index=False)\n",
    "print(\"Cleaned dataset saved as 'cleaned_dataset.csv'\")\n",
    "print(data.info())\n",
    "print(data.columns)\n",
    "data.head(n=15)"
   ]
  },
  {
   "cell_type": "code",
   "execution_count": null,
   "id": "b6e8b96c-26c7-474f-b4b9-c8cd90193d3f",
   "metadata": {},
   "outputs": [],
   "source": [
    "# Ensure 'text' column contains cleaned text data\n",
    "# Assuming the column you are using for text is named 'text' in your dataframe\n",
    "# If you need to adjust this column name, modify 'df['text']'\n",
    "\n",
    "# Initialize TfidfVectorizer with trigram (n=3) as n-gram range\n",
    "vectorizer = TfidfVectorizer(max_features = 5000)  # Trigrams (n=3)\n",
    "\n",
    "# Fit and transform the text data\n",
    "X = vectorizer.fit_transform(data['cleaned_text'])  # 'text' column containing the cleaned text data\n",
    "\n",
    "# Convert the sparse matrix to a dense format to view the results\n",
    "\n",
    "# Optionally, check the shape of the matrix (rows = documents, columns = features)\n",
    "print({X.shape})\n",
    "\n"
   ]
  },
  {
   "cell_type": "code",
   "execution_count": null,
   "id": "1222633b-c448-4404-8af8-344ff3195a43",
   "metadata": {},
   "outputs": [],
   "source": [
    "#Exploratory data analysis EDA\n",
    "data['language_code'].value_counts().plot(kind='bar', color='skyblue')\n",
    "plt.title('Language distribution')\n",
    "plt.xlabel('Language')\n",
    "plt.ylabel('count')\n",
    "plt.show()"
   ]
  },
  {
   "cell_type": "code",
   "execution_count": null,
   "id": "fd839f6c-3646-4f5d-931c-2b500519cb34",
   "metadata": {},
   "outputs": [],
   "source": [
    "data.isnull().sum()"
   ]
  },
  {
   "cell_type": "code",
   "execution_count": null,
   "id": "dd05a11c-24e7-44f8-9c55-dad5a70f6370",
   "metadata": {
    "scrolled": true
   },
   "outputs": [],
   "source": [
    "data['text_length'] = data['cleaned_text'].apply(len)  \n",
    "data['text_length'].hist(color='skyblue', bins=30)\n",
    "plt.title('Text Length Distribution')\n",
    "plt.xlabel('Text Length')\n",
    "plt.ylabel('Frequency')\n",
    "plt.show()"
   ]
  },
  {
   "cell_type": "code",
   "execution_count": null,
   "id": "2858c2d9-88d7-456d-b127-bdfaa6e5fa72",
   "metadata": {},
   "outputs": [],
   "source": [
    "for lang in data['language_code'].unique():  # Loop over each unique language in the 'language' column\n",
    "    # Filter the data for the current language\n",
    "    lang_data = data[data['language_code'] == lang]\n",
    "    wordcloud = WordCloud(width=800, height=400).generate(' '.join(lang_data['cleaned_text']))  # Adjust 'cleaned_text' if your column has a different name\n",
    "plt.imshow(wordcloud, interpolation='bilinear')  # 'bilinear' interpolation for smoother edges\n",
    "plt.axis('off')  # Turn off the axis\n",
    "plt.title(f'Most Frequent Words in {lang}')  # Title with the language name\n",
    "plt.show()  # Show the wordcloud for the current language"
   ]
  },
  {
   "cell_type": "code",
   "execution_count": null,
   "id": "52c848b5-15a0-4b6b-9ba5-72e2de5cd02a",
   "metadata": {},
   "outputs": [],
   "source": []
  },
  {
   "cell_type": "code",
   "execution_count": null,
   "id": "a0eccd49-91e5-44c4-8ea1-2cc7d0b83cb6",
   "metadata": {},
   "outputs": [],
   "source": []
  }
 ],
 "metadata": {
  "kernelspec": {
   "display_name": "Python 3 (ipykernel)",
   "language": "python",
   "name": "python3"
  },
  "language_info": {
   "codemirror_mode": {
    "name": "ipython",
    "version": 3
   },
   "file_extension": ".py",
   "mimetype": "text/x-python",
   "name": "python",
   "nbconvert_exporter": "python",
   "pygments_lexer": "ipython3",
   "version": "3.12.7"
  }
 },
 "nbformat": 4,
 "nbformat_minor": 5
}
